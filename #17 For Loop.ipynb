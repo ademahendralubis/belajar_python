{
 "cells": [
  {
   "cell_type": "code",
   "execution_count": 1,
   "metadata": {
    "scrolled": true
   },
   "outputs": [
    {
     "name": "stdout",
     "output_type": "stream",
     "text": [
      "a\n",
      "b\n",
      "c\n"
     ]
    }
   ],
   "source": [
    "#List, Tuple, Dict, Set\n",
    "alphabet = [\"a\", \"b\", \"c\"]\n",
    "\n",
    "for x in alphabet:\n",
    "  print(x)\n",
    "#step 1 -> x = \"a\" -> print(x) = \"a\"\n",
    "#step 2 -> x = \"b\" -> print(x) = \"b\"\n",
    "#step 3 -> x = \"c\" -> print(x) = \"c\""
   ]
  },
  {
   "cell_type": "code",
   "execution_count": 2,
   "metadata": {},
   "outputs": [
    {
     "name": "stdout",
     "output_type": "stream",
     "text": [
      "s\n",
      "e\n",
      "l\n",
      "a\n",
      "m\n",
      "a\n",
      "t\n"
     ]
    }
   ],
   "source": [
    "#String\n",
    "for x in \"selamat\":\n",
    "  print(x)\n",
    "#step 1 -> x = \"s\" -> print(x) = \"s\"\n",
    "#step 2 -> x = \"e\" -> print(x) = \"e\"\n",
    "#step 3 -> x = \"l\" -> print(x) = \"l\"\n",
    "#step 4 ...\n",
    "#step 5 ..."
   ]
  },
  {
   "cell_type": "code",
   "execution_count": 3,
   "metadata": {},
   "outputs": [
    {
     "name": "stdout",
     "output_type": "stream",
     "text": [
      "s\n",
      "e\n",
      "l\n"
     ]
    }
   ],
   "source": [
    "#break\n",
    "for x in \"selamat\":\n",
    "  if x == \"a\":\n",
    "    break\n",
    "  print(x)\n",
    "#step 1 -> x = \"s\" -> print(x) = \"s\"\n",
    "#step 2 -> x = \"e\" -> print(x) = \"e\"\n",
    "#step 3 -> x = \"l\" -> print(x) = \"l\"\n",
    "#step 4 -> x = \"a\" -> break"
   ]
  },
  {
   "cell_type": "code",
   "execution_count": 4,
   "metadata": {},
   "outputs": [
    {
     "name": "stdout",
     "output_type": "stream",
     "text": [
      "s\n",
      "e\n",
      "l\n",
      "m\n",
      "t\n"
     ]
    }
   ],
   "source": [
    "#continue\n",
    "for x in \"selamat\":\n",
    "  if x == \"a\":\n",
    "    continue\n",
    "  print(x)\n",
    "#step 1 -> x = \"s\" -> print(x) = \"s\"\n",
    "#step 2 -> x = \"e\" -> print(x) = \"e\"\n",
    "#step 3 -> x = \"l\" -> print(x) = \"l\"\n",
    "#step 4 -> x = \"a\" -> continue\n",
    "#step 5 -> x = \"m\" -> print(x) = \"m\"\n",
    "#step 6 -> x = \"a\" -> continue\n",
    "#step 7 -> x = \"t\" -> print(x) = \"t\""
   ]
  },
  {
   "cell_type": "code",
   "execution_count": 5,
   "metadata": {},
   "outputs": [
    {
     "name": "stdout",
     "output_type": "stream",
     "text": [
      "0\n",
      "1\n",
      "2\n",
      "3\n",
      "4\n"
     ]
    }
   ],
   "source": [
    "#range()\n",
    "# for(int i=0;i<10;i++)\n",
    "\n",
    "# range(5) = [0,1,2,3,4]\n",
    "\n",
    "for x in range(5):\n",
    "  print(x)"
   ]
  },
  {
   "cell_type": "code",
   "execution_count": 6,
   "metadata": {},
   "outputs": [
    {
     "name": "stdout",
     "output_type": "stream",
     "text": [
      "2\n",
      "3\n",
      "4\n"
     ]
    }
   ],
   "source": [
    "#range() 2\n",
    "\n",
    "#range(2,5) = [2,3,4]\n",
    "\n",
    "for x in range(2,5):\n",
    "  print(x)"
   ]
  },
  {
   "cell_type": "code",
   "execution_count": 7,
   "metadata": {},
   "outputs": [
    {
     "name": "stdout",
     "output_type": "stream",
     "text": [
      "2\n",
      "5\n",
      "8\n"
     ]
    }
   ],
   "source": [
    "#range() 3\n",
    "\n",
    "# range(2,10,3) = [2,5,8]\n",
    "\n",
    "for x in range(2,10,3):\n",
    "  print(x)"
   ]
  },
  {
   "cell_type": "code",
   "execution_count": 8,
   "metadata": {},
   "outputs": [
    {
     "name": "stdout",
     "output_type": "stream",
     "text": [
      "a 1\n",
      "a 2\n",
      "a 3\n",
      "b 1\n",
      "b 2\n",
      "b 3\n",
      "c 1\n",
      "c 2\n",
      "c 3\n"
     ]
    }
   ],
   "source": [
    "#nested loop\n",
    "\n",
    "alphabet = [\"a\",\"b\",\"c\"]\n",
    "number = [1,2,3]\n",
    "\n",
    "for x in alphabet:\n",
    "  for y in number:\n",
    "    print(x, y)\n",
    "#step 1 -> x = \"a\", y = 1 -> print(x,y) = \"a\" 1\n",
    "#step 2 -> x = \"a\", y = 2 -> print(x,y) = \"a\" 2\n",
    "#step 3 -> x = \"a\", y = 3 -> print(x,y) = \"a\" 3\n",
    "#step 4 -> x = \"b\", y = 1 -> print(x,y) = \"b\" 1\n",
    "#..."
   ]
  },
  {
   "cell_type": "code",
   "execution_count": 9,
   "metadata": {},
   "outputs": [
    {
     "name": "stdout",
     "output_type": "stream",
     "text": [
      "0\n",
      "1\n",
      "2\n",
      "3\n",
      "4\n",
      "selesai\n"
     ]
    }
   ],
   "source": [
    "#else\n",
    "for x in range(5):\n",
    "  print(x)\n",
    "else:\n",
    "  print(\"selesai\")"
   ]
  },
  {
   "cell_type": "code",
   "execution_count": 10,
   "metadata": {},
   "outputs": [],
   "source": [
    "#pass\n",
    "for x in [\"a\",\"b\",\"c\"]:\n",
    "    pass"
   ]
  }
 ],
 "metadata": {
  "kernelspec": {
   "display_name": "Python 3",
   "language": "python",
   "name": "python3"
  },
  "language_info": {
   "codemirror_mode": {
    "name": "ipython",
    "version": 3
   },
   "file_extension": ".py",
   "mimetype": "text/x-python",
   "name": "python",
   "nbconvert_exporter": "python",
   "pygments_lexer": "ipython3",
   "version": "3.8.3"
  }
 },
 "nbformat": 4,
 "nbformat_minor": 4
}

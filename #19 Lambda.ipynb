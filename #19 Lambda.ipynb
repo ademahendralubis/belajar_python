{
 "cells": [
  {
   "cell_type": "code",
   "execution_count": 1,
   "metadata": {},
   "outputs": [
    {
     "name": "stdout",
     "output_type": "stream",
     "text": [
      "7\n"
     ]
    }
   ],
   "source": [
    "# def noname(num):\n",
    "#     return num + 5\n",
    "\n",
    "x = lambda num : num + 5\n",
    "\n",
    "print(x(2))"
   ]
  },
  {
   "cell_type": "code",
   "execution_count": 2,
   "metadata": {},
   "outputs": [
    {
     "name": "stdout",
     "output_type": "stream",
     "text": [
      "7\n"
     ]
    }
   ],
   "source": [
    "# 2 arguments\n",
    "x = lambda num1,num2 : num1 + num2\n",
    "\n",
    "print(x(2,5))"
   ]
  },
  {
   "cell_type": "code",
   "execution_count": 3,
   "metadata": {},
   "outputs": [
    {
     "name": "stdout",
     "output_type": "stream",
     "text": [
      "15\n"
     ]
    }
   ],
   "source": [
    "#lambda function\n",
    "\n",
    "def thisfunction(n):\n",
    "    return lambda x : x + n\n",
    "\n",
    "a = thisfunction(5)\n",
    "\n",
    "print(a(10))"
   ]
  },
  {
   "cell_type": "code",
   "execution_count": 4,
   "metadata": {},
   "outputs": [
    {
     "name": "stdout",
     "output_type": "stream",
     "text": [
      "15\n",
      "12\n"
     ]
    }
   ],
   "source": [
    "def thisfunction(n):\n",
    "    return lambda x : x + n\n",
    "\n",
    "a = thisfunction(5)\n",
    "b = thisfunction(10)\n",
    "\n",
    "print(a(10))\n",
    "print(b(2))"
   ]
  },
  {
   "cell_type": "code",
   "execution_count": 8,
   "metadata": {},
   "outputs": [
    {
     "name": "stdout",
     "output_type": "stream",
     "text": [
      "4\n"
     ]
    }
   ],
   "source": [
    "# *args\n",
    "x = lambda *num : num[0] + num[1]\n",
    "\n",
    "print(x(2,2))"
   ]
  },
  {
   "cell_type": "code",
   "execution_count": 9,
   "metadata": {},
   "outputs": [
    {
     "name": "stdout",
     "output_type": "stream",
     "text": [
      "Jakarta Bandung\n"
     ]
    }
   ],
   "source": [
    "# **kwargs\n",
    "x = lambda **kota : \"{} {}\".format(kota['kota1'], kota['kota2'])\n",
    "\n",
    "print(x(kota1 = \"Jakarta\",kota2 = \"Bandung\"))"
   ]
  }
 ],
 "metadata": {
  "kernelspec": {
   "display_name": "Python 3",
   "language": "python",
   "name": "python3"
  },
  "language_info": {
   "codemirror_mode": {
    "name": "ipython",
    "version": 3
   },
   "file_extension": ".py",
   "mimetype": "text/x-python",
   "name": "python",
   "nbconvert_exporter": "python",
   "pygments_lexer": "ipython3",
   "version": "3.8.3"
  }
 },
 "nbformat": 4,
 "nbformat_minor": 4
}

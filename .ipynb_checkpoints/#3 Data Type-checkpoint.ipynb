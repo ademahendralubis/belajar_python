{
 "cells": [
  {
   "cell_type": "code",
   "execution_count": 2,
   "metadata": {},
   "outputs": [
    {
     "name": "stdout",
     "output_type": "stream",
     "text": [
      "20\n",
      "<class 'int'>\n"
     ]
    }
   ],
   "source": [
    "#int (integer)\n",
    "\n",
    "x = 20\n",
    "\n",
    "#print isi value dari x\n",
    "print(x)\n",
    "\n",
    "#print tipe data dari value x\n",
    "print(type(x)) "
   ]
  },
  {
   "cell_type": "code",
   "execution_count": 3,
   "metadata": {},
   "outputs": [
    {
     "name": "stdout",
     "output_type": "stream",
     "text": [
      "20.5\n",
      "<class 'float'>\n"
     ]
    }
   ],
   "source": [
    "#float\n",
    "\n",
    "x = 20.5\n",
    "\n",
    "#print isi value dari x\n",
    "print(x)\n",
    "\n",
    "#print tipe data dari value x\n",
    "print(type(x)) "
   ]
  },
  {
   "cell_type": "code",
   "execution_count": 4,
   "metadata": {},
   "outputs": [
    {
     "name": "stdout",
     "output_type": "stream",
     "text": [
      "Selamat Datang\n",
      "<class 'str'>\n"
     ]
    }
   ],
   "source": [
    "#str (string)\n",
    "\n",
    "x = \"Selamat Datang\"\n",
    "\n",
    "#print isi value dari x\n",
    "print(x)\n",
    "\n",
    "#print tipe data dari value x\n",
    "print(type(x)) "
   ]
  },
  {
   "cell_type": "code",
   "execution_count": 5,
   "metadata": {},
   "outputs": [
    {
     "name": "stdout",
     "output_type": "stream",
     "text": [
      "['apple', 'banana', 'cherry']\n",
      "<class 'list'>\n"
     ]
    }
   ],
   "source": [
    "#list\n",
    "\n",
    "x = [\"apple\", \"banana\", \"cherry\"]\n",
    "\n",
    "#print isi value dari x\n",
    "print(x)\n",
    "\n",
    "#print tipe data dari value x\n",
    "print(type(x)) "
   ]
  },
  {
   "cell_type": "code",
   "execution_count": 6,
   "metadata": {},
   "outputs": [
    {
     "name": "stdout",
     "output_type": "stream",
     "text": [
      "('apple', 'banana', 'cherry')\n",
      "<class 'tuple'>\n"
     ]
    }
   ],
   "source": [
    "#tuple\n",
    "\n",
    "x = (\"apple\", \"banana\", \"cherry\")\n",
    "\n",
    "#print isi value dari x\n",
    "print(x)\n",
    "\n",
    "#print tipe data dari value x\n",
    "print(type(x)) "
   ]
  },
  {
   "cell_type": "code",
   "execution_count": 7,
   "metadata": {},
   "outputs": [
    {
     "name": "stdout",
     "output_type": "stream",
     "text": [
      "range(0, 6)\n",
      "<class 'range'>\n"
     ]
    }
   ],
   "source": [
    "#range\n",
    "\n",
    "x = range(6)\n",
    "\n",
    "#print isi value dari x\n",
    "print(x)\n",
    "\n",
    "#print tipe data dari value x\n",
    "print(type(x)) "
   ]
  },
  {
   "cell_type": "code",
   "execution_count": 8,
   "metadata": {},
   "outputs": [
    {
     "name": "stdout",
     "output_type": "stream",
     "text": [
      "{'name': 'John', 'age': 36}\n",
      "<class 'dict'>\n"
     ]
    }
   ],
   "source": [
    "#dict\n",
    "\n",
    "x = {\"name\" : \"John\", \"age\" : 36}\n",
    "\n",
    "#print isi value dari x\n",
    "print(x)\n",
    "\n",
    "#print tipe data dari value x\n",
    "print(type(x)) "
   ]
  },
  {
   "cell_type": "code",
   "execution_count": 9,
   "metadata": {},
   "outputs": [
    {
     "name": "stdout",
     "output_type": "stream",
     "text": [
      "{'cherry', 'apple', 'banana'}\n",
      "<class 'set'>\n"
     ]
    }
   ],
   "source": [
    "#set\n",
    "\n",
    "x = {\"apple\", \"banana\", \"cherry\"}\n",
    "\n",
    "#print isi value dari x\n",
    "print(x)\n",
    "\n",
    "#print tipe data dari value x\n",
    "print(type(x)) "
   ]
  },
  {
   "cell_type": "code",
   "execution_count": 10,
   "metadata": {},
   "outputs": [
    {
     "name": "stdout",
     "output_type": "stream",
     "text": [
      "frozenset({'cherry', 'apple', 'banana'})\n",
      "<class 'frozenset'>\n"
     ]
    }
   ],
   "source": [
    "#frozenset\n",
    "\n",
    "x = frozenset({\"apple\", \"banana\", \"cherry\"})\n",
    "\n",
    "#print isi value dari x\n",
    "print(x)\n",
    "\n",
    "#print tipe data dari value x\n",
    "print(type(x))"
   ]
  },
  {
   "cell_type": "code",
   "execution_count": 11,
   "metadata": {},
   "outputs": [
    {
     "name": "stdout",
     "output_type": "stream",
     "text": [
      "True\n",
      "<class 'bool'>\n"
     ]
    }
   ],
   "source": [
    "#bool\n",
    "\n",
    "x = True\n",
    "\n",
    "#print isi value dari x\n",
    "print(x)\n",
    "\n",
    "#print tipe data dari value x\n",
    "print(type(x))"
   ]
  },
  {
   "cell_type": "code",
   "execution_count": 12,
   "metadata": {},
   "outputs": [
    {
     "name": "stdout",
     "output_type": "stream",
     "text": [
      "b'Selamat Datang'\n",
      "<class 'bytes'>\n"
     ]
    }
   ],
   "source": [
    "#bytes\n",
    "\n",
    "x = b\"Selamat Datang\"\n",
    "\n",
    "#print isi value dari x\n",
    "print(x)\n",
    "\n",
    "#print tipe data dari value x\n",
    "print(type(x))"
   ]
  },
  {
   "cell_type": "code",
   "execution_count": 13,
   "metadata": {},
   "outputs": [
    {
     "name": "stdout",
     "output_type": "stream",
     "text": [
      "bytearray(b'\\x00\\x00\\x00\\x00\\x00')\n",
      "<class 'bytearray'>\n"
     ]
    }
   ],
   "source": [
    "#bytearray\n",
    "\n",
    "x = bytearray(5)\n",
    "\n",
    "#print isi value dari x\n",
    "print(x)\n",
    "\n",
    "#print tipe data dari value x\n",
    "print(type(x))"
   ]
  },
  {
   "cell_type": "code",
   "execution_count": null,
   "metadata": {},
   "outputs": [],
   "source": [
    "#memoryview\n",
    "\n",
    "x = memoryview(bytes(5))\n",
    "\n",
    "#print isi value dari x\n",
    "print(x)\n",
    "\n",
    "#print tipe data dari value x\n",
    "print(type(x))"
   ]
  }
 ],
 "metadata": {
  "kernelspec": {
   "display_name": "Python 3",
   "language": "python",
   "name": "python3"
  },
  "language_info": {
   "codemirror_mode": {
    "name": "ipython",
    "version": 3
   },
   "file_extension": ".py",
   "mimetype": "text/x-python",
   "name": "python",
   "nbconvert_exporter": "python",
   "pygments_lexer": "ipython3",
   "version": "3.8.3"
  }
 },
 "nbformat": 4,
 "nbformat_minor": 4
}

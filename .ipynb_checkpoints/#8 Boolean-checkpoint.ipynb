{
 "cells": [
  {
   "cell_type": "code",
   "execution_count": 1,
   "metadata": {},
   "outputs": [
    {
     "name": "stdout",
     "output_type": "stream",
     "text": [
      "<class 'bool'>\n",
      "<class 'bool'>\n"
     ]
    }
   ],
   "source": [
    "x = True\n",
    "y = False\n",
    "\n",
    "print(type(x))\n",
    "print(type(y))"
   ]
  },
  {
   "cell_type": "code",
   "execution_count": 2,
   "metadata": {},
   "outputs": [
    {
     "name": "stdout",
     "output_type": "stream",
     "text": [
      "False\n"
     ]
    }
   ],
   "source": [
    "x = 10 > 15\n",
    "print(x)"
   ]
  },
  {
   "cell_type": "code",
   "execution_count": 3,
   "metadata": {},
   "outputs": [
    {
     "name": "stdout",
     "output_type": "stream",
     "text": [
      "x tidak lebih besar dari y\n"
     ]
    }
   ],
   "source": [
    "x = 5\n",
    "y = 10\n",
    "\n",
    "if x > y :\n",
    "    print(\"x lebih besar dari y\")\n",
    "else :\n",
    "    print(\"x tidak lebih besar dari y\")"
   ]
  },
  {
   "cell_type": "code",
   "execution_count": 4,
   "metadata": {},
   "outputs": [
    {
     "name": "stdout",
     "output_type": "stream",
     "text": [
      "this is True\n"
     ]
    }
   ],
   "source": [
    "#Seringkali diwakilkan dengan angka\n",
    "# True = 1\n",
    "# False = 0\n",
    "\n",
    "if 1 :\n",
    "    print(\"this is True\")\n",
    "else :\n",
    "    print(\"this is False\")"
   ]
  },
  {
   "cell_type": "code",
   "execution_count": 5,
   "metadata": {},
   "outputs": [
    {
     "name": "stdout",
     "output_type": "stream",
     "text": [
      "True\n",
      "True\n",
      "True\n",
      "True\n",
      "True\n"
     ]
    }
   ],
   "source": [
    "#Value yang dikategorikan sebagai True\n",
    "print(bool(\"wxyz\"))\n",
    "\n",
    "print(bool(111))\n",
    "\n",
    "print(bool((\"a\",\"b\",\"c\")))  # (\"a\",\"b\",\"c\") tuple\n",
    "\n",
    "print(bool([\"a\",\"b\",\"c\"]))  # [\"a\",\"b\",\"c\"] list\n",
    "\n",
    "print(bool({\"a\",\"b\",\"c\"}))  # {\"a\",\"b\",\"c\"} sets"
   ]
  },
  {
   "cell_type": "code",
   "execution_count": 6,
   "metadata": {},
   "outputs": [
    {
     "name": "stdout",
     "output_type": "stream",
     "text": [
      "False\n",
      "False\n",
      "False\n",
      "False\n",
      "False\n"
     ]
    }
   ],
   "source": [
    "#Value yang dikategorikan sebagai False\n",
    "print(bool(\"\"))\n",
    "\n",
    "print(bool(0))\n",
    "\n",
    "print(bool(()))  # () tuple\n",
    "\n",
    "print(bool([]))  # [] list\n",
    "\n",
    "print(bool({}))  # {} sets"
   ]
  }
 ],
 "metadata": {
  "kernelspec": {
   "display_name": "Python 3",
   "language": "python",
   "name": "python3"
  },
  "language_info": {
   "codemirror_mode": {
    "name": "ipython",
    "version": 3
   },
   "file_extension": ".py",
   "mimetype": "text/x-python",
   "name": "python",
   "nbconvert_exporter": "python",
   "pygments_lexer": "ipython3",
   "version": "3.8.3"
  }
 },
 "nbformat": 4,
 "nbformat_minor": 4
}

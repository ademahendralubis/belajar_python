{
 "cells": [
  {
   "cell_type": "code",
   "execution_count": 9,
   "metadata": {},
   "outputs": [
    {
     "name": "stdout",
     "output_type": "stream",
     "text": [
      "1\n",
      "2\n",
      "3\n"
     ]
    }
   ],
   "source": [
    "i = 1\n",
    "while i < 4:\n",
    "  print(i)\n",
    "  i += 1\n",
    "\n",
    "# i = 1\n",
    "# step 1 : i < 4 : true -> print(i) , i += 1, i =2\n",
    "# step 2 : i < 4 : true -> print(i) , i += 1, i =3\n",
    "# step 3 : i < 4 : true -> print(i) , i += 1, i =4\n",
    "# step 4 : 3 < 4 : False"
   ]
  },
  {
   "cell_type": "code",
   "execution_count": 1,
   "metadata": {},
   "outputs": [
    {
     "name": "stdout",
     "output_type": "stream",
     "text": [
      "1\n"
     ]
    }
   ],
   "source": [
    "#break\n",
    "i = 1\n",
    "while i < 4:\n",
    "  if i == 2:\n",
    "    break\n",
    "  print(i)\n",
    "  i += 1\n",
    "    \n",
    "# i = 2\n",
    "# step 1 : i < 4 : true -> if i == 2 : False -> print(i), i += 1, i=2\n",
    "# step 2 : i < 4 : true -> if i == 2 : True ->  break -> done!"
   ]
  },
  {
   "cell_type": "code",
   "execution_count": 10,
   "metadata": {},
   "outputs": [
    {
     "name": "stdout",
     "output_type": "stream",
     "text": [
      "1\n",
      "3\n",
      "4\n"
     ]
    }
   ],
   "source": [
    "#continue\n",
    "x = 0\n",
    "while x < 4:\n",
    "  x += 1\n",
    "  if x == 2:\n",
    "    continue\n",
    "  print(x)\n",
    "\n",
    "# x = 4\n",
    "# step 1 : x < 4 : True -> x += 1, x = 1, if x == 2: False -> print(x)\n",
    "# step 2 : x < 4 : True -> x += 1, x = 2, if x == 2: True -> Skip\n",
    "# step 3 : x < 4 : True -> x += 1, x = 3, if x == 2: False -> print(x)\n",
    "# step 4 : x < 4 : True -> x += 1, x = 4, if x == 2: False -> print(x)\n",
    "# step 5 : x < 4 : False -> Stop!"
   ]
  },
  {
   "cell_type": "code",
   "execution_count": 11,
   "metadata": {},
   "outputs": [
    {
     "name": "stdout",
     "output_type": "stream",
     "text": [
      "1\n",
      "2\n",
      "3\n",
      "4\n",
      "5\n",
      "looping is done\n"
     ]
    }
   ],
   "source": [
    "#else\n",
    "x = 0\n",
    "while x < 5:\n",
    "  x += 1\n",
    "  print(x)\n",
    "else :\n",
    "  print(\"looping is done\")"
   ]
  }
 ],
 "metadata": {
  "kernelspec": {
   "display_name": "Python 3",
   "language": "python",
   "name": "python3"
  },
  "language_info": {
   "codemirror_mode": {
    "name": "ipython",
    "version": 3
   },
   "file_extension": ".py",
   "mimetype": "text/x-python",
   "name": "python",
   "nbconvert_exporter": "python",
   "pygments_lexer": "ipython3",
   "version": "3.8.3"
  }
 },
 "nbformat": 4,
 "nbformat_minor": 4
}

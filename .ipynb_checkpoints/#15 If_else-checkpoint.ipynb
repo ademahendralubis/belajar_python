{
 "cells": [
  {
   "cell_type": "code",
   "execution_count": 4,
   "metadata": {},
   "outputs": [
    {
     "name": "stdout",
     "output_type": "stream",
     "text": [
      "x lebih besar dari y\n"
     ]
    }
   ],
   "source": [
    "x = 20\n",
    "y = 15\n",
    "if x > y:\n",
    "  print(\"x lebih besar dari y\")"
   ]
  },
  {
   "cell_type": "code",
   "execution_count": 3,
   "metadata": {},
   "outputs": [
    {
     "name": "stdout",
     "output_type": "stream",
     "text": [
      "x tidak lebih besar dari y\n"
     ]
    }
   ],
   "source": [
    "x = 20\n",
    "y = 25\n",
    "if x > y:\n",
    "  print(\"x lebih besar dari y\")\n",
    "else:\n",
    "  print(\"x tidak lebih besar dari y\")"
   ]
  },
  {
   "cell_type": "code",
   "execution_count": 11,
   "metadata": {},
   "outputs": [
    {
     "name": "stdout",
     "output_type": "stream",
     "text": [
      "x lebih besar dari y\n"
     ]
    }
   ],
   "source": [
    "#identation\n",
    "x = 20\n",
    "y = 15\n",
    "if x > y:\n",
    "    print(\"x lebih besar dari y\")"
   ]
  },
  {
   "cell_type": "code",
   "execution_count": 5,
   "metadata": {},
   "outputs": [],
   "source": [
    "#elif\n",
    "\n",
    "x = 20\n",
    "y = 25\n",
    "if x > y:\n",
    "    print(\"x lebih besar dari y\")\n",
    "elif x == y:\n",
    "    print(\"x equal y\")"
   ]
  },
  {
   "cell_type": "code",
   "execution_count": 16,
   "metadata": {},
   "outputs": [
    {
     "name": "stdout",
     "output_type": "stream",
     "text": [
      "x lebih kecil dari y\n"
     ]
    }
   ],
   "source": [
    "#else\n",
    "\n",
    "x = 20\n",
    "y = 25\n",
    "if x > y:\n",
    "    print(\"x lebih besar dari y\")\n",
    "elif x == y:\n",
    "    print(\"x equal y\")\n",
    "else:\n",
    "    print(\"x lebih kecil dari y\")"
   ]
  },
  {
   "cell_type": "code",
   "execution_count": 20,
   "metadata": {},
   "outputs": [
    {
     "name": "stdout",
     "output_type": "stream",
     "text": [
      "x lebih besar dari y\n"
     ]
    }
   ],
   "source": [
    "#short hand if\n",
    "x = 20\n",
    "y = 15\n",
    "if x > y: print(\"x lebih besar dari y\")"
   ]
  },
  {
   "cell_type": "code",
   "execution_count": 6,
   "metadata": {},
   "outputs": [
    {
     "name": "stdout",
     "output_type": "stream",
     "text": [
      "Yes\n"
     ]
    }
   ],
   "source": [
    "#short hand if else\n",
    "x = 20\n",
    "y = 15\n",
    "print(\"Yes\") if x > y else print(\"No\")"
   ]
  },
  {
   "cell_type": "code",
   "execution_count": 23,
   "metadata": {
    "scrolled": true
   },
   "outputs": [
    {
     "name": "stdout",
     "output_type": "stream",
     "text": [
      "x tidak lebih besar dari y\n"
     ]
    }
   ],
   "source": [
    "#Nested if\n",
    "\n",
    "x = 20\n",
    "y = 15\n",
    "z = 30\n",
    "if x < y:\n",
    "    if z > 20:\n",
    "        print(\"X lebih besar dari Y dan Z lebih besar dari 20\")\n",
    "    else:\n",
    "        print(\"X lebih besar dari Y dan Z lebih besar dari 20\")\n",
    "else:\n",
    "    print(\"x tidak lebih besar dari y\")"
   ]
  }
 ],
 "metadata": {
  "kernelspec": {
   "display_name": "Python 3",
   "language": "python",
   "name": "python3"
  },
  "language_info": {
   "codemirror_mode": {
    "name": "ipython",
    "version": 3
   },
   "file_extension": ".py",
   "mimetype": "text/x-python",
   "name": "python",
   "nbconvert_exporter": "python",
   "pygments_lexer": "ipython3",
   "version": "3.8.3"
  }
 },
 "nbformat": 4,
 "nbformat_minor": 4
}

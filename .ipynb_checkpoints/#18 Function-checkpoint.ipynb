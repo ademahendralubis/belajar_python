{
 "cells": [
  {
   "cell_type": "code",
   "execution_count": 8,
   "metadata": {},
   "outputs": [],
   "source": [
    "def this_function():\n",
    "    print(\"this is function\")"
   ]
  },
  {
   "cell_type": "code",
   "execution_count": 9,
   "metadata": {},
   "outputs": [
    {
     "name": "stdout",
     "output_type": "stream",
     "text": [
      "this is function\n"
     ]
    }
   ],
   "source": [
    "# call function\n",
    "this_function()"
   ]
  },
  {
   "cell_type": "code",
   "execution_count": 11,
   "metadata": {},
   "outputs": [
    {
     "name": "stdout",
     "output_type": "stream",
     "text": [
      "codingan AI\n",
      "Cristiano Ronaldo\n"
     ]
    }
   ],
   "source": [
    "#argument\n",
    "def biodata(nama_depan, nama_belakang):\n",
    "    print(nama_depan + \" \" + nama_belakang)\n",
    "    \n",
    "biodata(\"codingan\",\"AI\")\n",
    "biodata(\"Cristiano\",\"Ronaldo\")"
   ]
  },
  {
   "cell_type": "code",
   "execution_count": 14,
   "metadata": {},
   "outputs": [
    {
     "ename": "TypeError",
     "evalue": "biodata() missing 1 required positional argument: 'nama_belakang'",
     "output_type": "error",
     "traceback": [
      "\u001b[1;31m---------------------------------------------------------------------------\u001b[0m",
      "\u001b[1;31mTypeError\u001b[0m                                 Traceback (most recent call last)",
      "\u001b[1;32m<ipython-input-14-502b7542940a>\u001b[0m in \u001b[0;36m<module>\u001b[1;34m\u001b[0m\n\u001b[0;32m      3\u001b[0m     \u001b[0mprint\u001b[0m\u001b[1;33m(\u001b[0m\u001b[0mnama_depan\u001b[0m \u001b[1;33m+\u001b[0m \u001b[1;34m\" \"\u001b[0m \u001b[1;33m+\u001b[0m \u001b[0mnama_belakang\u001b[0m\u001b[1;33m)\u001b[0m\u001b[1;33m\u001b[0m\u001b[1;33m\u001b[0m\u001b[0m\n\u001b[0;32m      4\u001b[0m \u001b[1;33m\u001b[0m\u001b[0m\n\u001b[1;32m----> 5\u001b[1;33m \u001b[0mbiodata\u001b[0m\u001b[1;33m(\u001b[0m\u001b[1;34m\"codingan\"\u001b[0m\u001b[1;33m)\u001b[0m\u001b[1;33m\u001b[0m\u001b[1;33m\u001b[0m\u001b[0m\n\u001b[0m",
      "\u001b[1;31mTypeError\u001b[0m: biodata() missing 1 required positional argument: 'nama_belakang'"
     ]
    }
   ],
   "source": [
    "#argument\n",
    "def biodata(nama_depan, nama_belakang):\n",
    "    print(nama_depan + \" \" + nama_belakang)\n",
    "    \n",
    "biodata(\"codingan\")"
   ]
  },
  {
   "cell_type": "code",
   "execution_count": 17,
   "metadata": {},
   "outputs": [
    {
     "name": "stdout",
     "output_type": "stream",
     "text": [
      "codingan AI\n"
     ]
    }
   ],
   "source": [
    "# Keyword argument\n",
    "def biodata(nama_belakang,nama_depan):\n",
    "    print(nama_depan + \" \" + nama_belakang)\n",
    "    \n",
    "biodata(nama_depan = \"codingan\", nama_belakang = \"AI\")"
   ]
  },
  {
   "cell_type": "code",
   "execution_count": 19,
   "metadata": {},
   "outputs": [
    {
     "name": "stdout",
     "output_type": "stream",
     "text": [
      "saya tinggal di Jakarta\n",
      "saya tinggal di Bandung\n"
     ]
    }
   ],
   "source": [
    "#default value\n",
    "def biodata(kota):\n",
    "    print(\"saya tinggal di \" + kota)\n",
    "    \n",
    "biodata()\n",
    "biodata(\"Bandung\")"
   ]
  },
  {
   "cell_type": "code",
   "execution_count": null,
   "metadata": {},
   "outputs": [],
   "source": [
    "# *args\n",
    "\n",
    "def my_function(*kota):\n",
    "  print(\"saya tinggal di \" + kota[2])\n",
    "\n",
    "my_function(\"Jakarta\", \"Bandung\",\"Bali\")"
   ]
  },
  {
   "cell_type": "code",
   "execution_count": null,
   "metadata": {},
   "outputs": [],
   "source": [
    "# **kwargs\n",
    "\n",
    "def my_function(**nama):\n",
    "  print(\"nama depan saya adalah \" + nama[\"nama_depan\"])\n",
    "\n",
    "my_function(nama_depan = \"Cristiano\", nama_belakang = \"Ronaldo\")"
   ]
  },
  {
   "cell_type": "code",
   "execution_count": null,
   "metadata": {},
   "outputs": [],
   "source": [
    "# Return Value\n",
    "\n",
    "def tambah(angka1,angka2):\n",
    "    return angka1 + angka2\n",
    "\n",
    "print(tambah(1,2))"
   ]
  },
  {
   "cell_type": "code",
   "execution_count": null,
   "metadata": {},
   "outputs": [],
   "source": [
    "# passing collection data to argument\n",
    "\n",
    "def fungsi(nama_tempat):\n",
    "    for x in nama_tempat:\n",
    "        print(x)\n",
    "\n",
    "kota = (\"Jakarta\",\"Bandung\", \"Bali\")\n",
    "\n",
    "fungsi(kota)"
   ]
  },
  {
   "cell_type": "code",
   "execution_count": null,
   "metadata": {},
   "outputs": [],
   "source": [
    "# pass\n",
    "\n",
    "def thisfunction():\n",
    "  pass"
   ]
  }
 ],
 "metadata": {
  "kernelspec": {
   "display_name": "Python 3",
   "language": "python",
   "name": "python3"
  },
  "language_info": {
   "codemirror_mode": {
    "name": "ipython",
    "version": 3
   },
   "file_extension": ".py",
   "mimetype": "text/x-python",
   "name": "python",
   "nbconvert_exporter": "python",
   "pygments_lexer": "ipython3",
   "version": "3.8.3"
  }
 },
 "nbformat": 4,
 "nbformat_minor": 4
}

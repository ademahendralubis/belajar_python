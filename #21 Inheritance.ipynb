{
 "cells": [
  {
   "cell_type": "code",
   "execution_count": 3,
   "metadata": {},
   "outputs": [
    {
     "name": "stdout",
     "output_type": "stream",
     "text": [
      "nama saya adalah anton\n",
      "umur saya adalah 36\n"
     ]
    }
   ],
   "source": [
    "class Person:\n",
    "    def __init__(self, nama, umur):\n",
    "        self.nama = nama\n",
    "        self.umur = umur\n",
    "    \n",
    "    def print_nama_umur(self):\n",
    "        print(\"nama saya adalah {}\".format(self.nama))\n",
    "        print(\"umur saya adalah {}\".format(self.umur))\n",
    "\n",
    "x = Person(\"anton\",36)\n",
    "x.print_nama_umur()"
   ]
  },
  {
   "cell_type": "code",
   "execution_count": 5,
   "metadata": {},
   "outputs": [
    {
     "name": "stdout",
     "output_type": "stream",
     "text": [
      "nama saya adalah Budi\n",
      "umur saya adalah 30\n"
     ]
    }
   ],
   "source": [
    "#create child class\n",
    "\n",
    "class Staff(Person):\n",
    "    pass\n",
    "\n",
    "x = Staff(\"Budi\", 30)\n",
    "x.print_nama_umur()"
   ]
  },
  {
   "cell_type": "code",
   "execution_count": 7,
   "metadata": {},
   "outputs": [
    {
     "name": "stdout",
     "output_type": "stream",
     "text": [
      "nama saya adalah anton\n",
      "umur saya adalah 30\n"
     ]
    }
   ],
   "source": [
    "# __init__\n",
    "class Staff(Person):\n",
    "    def __init__(self, nama, umur):\n",
    "        Person.__init__(self,nama,umur)\n",
    "        \n",
    "        \n",
    "x = Staff(\"anton\",30)\n",
    "x.print_nama_umur()"
   ]
  },
  {
   "cell_type": "code",
   "execution_count": 9,
   "metadata": {},
   "outputs": [
    {
     "name": "stdout",
     "output_type": "stream",
     "text": [
      "nama saya adalah anton\n",
      "umur saya adalah 30\n"
     ]
    }
   ],
   "source": [
    "# super()\n",
    "class Staff(Person):\n",
    "    def __init__(self, nama, umur):\n",
    "        super().__init__(nama,umur)\n",
    "        \n",
    "        \n",
    "x = Staff(\"anton\",30)\n",
    "x.print_nama_umur()"
   ]
  },
  {
   "cell_type": "code",
   "execution_count": 10,
   "metadata": {},
   "outputs": [
    {
     "name": "stdout",
     "output_type": "stream",
     "text": [
      "manajer\n"
     ]
    }
   ],
   "source": [
    "# add child property\n",
    "\n",
    "class Staff(Person):\n",
    "    def __init__(self, nama, umur,jabatan):\n",
    "        super().__init__(nama,umur)\n",
    "        self.jabatan = jabatan\n",
    "        \n",
    "        \n",
    "x = Staff(\"anton\",30, \"manajer\")\n",
    "print(x.jabatan)"
   ]
  },
  {
   "cell_type": "code",
   "execution_count": 11,
   "metadata": {},
   "outputs": [
    {
     "name": "stdout",
     "output_type": "stream",
     "text": [
      "jabatan saya adalah manajer\n"
     ]
    }
   ],
   "source": [
    "# add child method\n",
    "class Staff(Person):\n",
    "    def __init__(self, nama, umur,jabatan):\n",
    "        super().__init__(nama,umur)\n",
    "        self.jabatan = jabatan\n",
    "        \n",
    "    def print_jabatan(self):\n",
    "        print('jabatan saya adalah {}'.format(self.jabatan))\n",
    "        \n",
    "        \n",
    "x = Staff(\"anton\",30, \"manajer\")\n",
    "x.print_jabatan()"
   ]
  }
 ],
 "metadata": {
  "kernelspec": {
   "display_name": "Python 3",
   "language": "python",
   "name": "python3"
  },
  "language_info": {
   "codemirror_mode": {
    "name": "ipython",
    "version": 3
   },
   "file_extension": ".py",
   "mimetype": "text/x-python",
   "name": "python",
   "nbconvert_exporter": "python",
   "pygments_lexer": "ipython3",
   "version": "3.8.3"
  }
 },
 "nbformat": 4,
 "nbformat_minor": 4
}

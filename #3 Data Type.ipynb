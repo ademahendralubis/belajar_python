{
 "cells": [
  {
   "cell_type": "code",
   "execution_count": null,
   "metadata": {},
   "outputs": [],
   "source": [
    "#int (integer)\n",
    "\n",
    "x = 10\n",
    "\n",
    "#print isi value dari x\n",
    "print(x)\n",
    "\n",
    "#print tipe data dari value x\n",
    "print(type(x))"
   ]
  },
  {
   "cell_type": "code",
   "execution_count": null,
   "metadata": {},
   "outputs": [],
   "source": [
    "#float\n",
    "\n",
    "x = 15.5\n",
    "\n",
    "#print isi value dari x\n",
    "print(x)\n",
    "\n",
    "#print tipe data dari value x\n",
    "print(type(x)) "
   ]
  },
  {
   "cell_type": "code",
   "execution_count": null,
   "metadata": {},
   "outputs": [],
   "source": [
    "#str (string)\n",
    "\n",
    "x = \"Selamat Datang\"\n",
    "\n",
    "#print isi value dari x\n",
    "print(x)\n",
    "\n",
    "#print tipe data dari value x\n",
    "print(type(x)) "
   ]
  },
  {
   "cell_type": "code",
   "execution_count": null,
   "metadata": {},
   "outputs": [],
   "source": [
    "#list\n",
    "\n",
    "x = [\"Motor\", \"Mobil\", \"Sepeda\"]\n",
    "\n",
    "#print isi value dari x\n",
    "print(x)\n",
    "\n",
    "#print tipe data dari value x\n",
    "print(type(x)) "
   ]
  },
  {
   "cell_type": "code",
   "execution_count": null,
   "metadata": {},
   "outputs": [],
   "source": [
    "#tuple\n",
    "\n",
    "x = (\"Motor\", \"Mobil\", \"Sepeda\")\n",
    "\n",
    "#print isi value dari x\n",
    "print(x)\n",
    "\n",
    "#print tipe data dari value x\n",
    "print(type(x)) "
   ]
  },
  {
   "cell_type": "code",
   "execution_count": null,
   "metadata": {},
   "outputs": [],
   "source": [
    "#range\n",
    "\n",
    "x = range(10)\n",
    "\n",
    "#print isi value dari x\n",
    "print(x)\n",
    "\n",
    "#print tipe data dari value x\n",
    "print(type(x)) "
   ]
  },
  {
   "cell_type": "code",
   "execution_count": null,
   "metadata": {},
   "outputs": [],
   "source": [
    "#dict / dictionary\n",
    "\n",
    "x = {\"Nama\" : \"Budi\", \"Umur\" : 12}\n",
    "\n",
    "#print isi value dari x\n",
    "print(x)\n",
    "\n",
    "#print tipe data dari value x\n",
    "print(type(x)) "
   ]
  },
  {
   "cell_type": "code",
   "execution_count": null,
   "metadata": {},
   "outputs": [],
   "source": [
    "#set\n",
    "\n",
    "x = {\"Motor\", \"Mobil\", \"Sepeda\"}\n",
    "\n",
    "#print isi value dari x\n",
    "print(x)\n",
    "\n",
    "#print tipe data dari value x\n",
    "print(type(x)) "
   ]
  },
  {
   "cell_type": "code",
   "execution_count": null,
   "metadata": {},
   "outputs": [],
   "source": [
    "#frozenset\n",
    "\n",
    "x = frozenset({\"Motor\", \"Mobil\", \"Sepeda\"})\n",
    "\n",
    "#print isi value dari x\n",
    "print(x)\n",
    "\n",
    "#print tipe data dari value x\n",
    "print(type(x))"
   ]
  },
  {
   "cell_type": "code",
   "execution_count": null,
   "metadata": {},
   "outputs": [],
   "source": [
    "#bool / Boolean\n",
    "\n",
    "x = True\n",
    "\n",
    "#print isi value dari x\n",
    "print(x)\n",
    "\n",
    "#print tipe data dari value x\n",
    "print(type(x))"
   ]
  },
  {
   "cell_type": "code",
   "execution_count": null,
   "metadata": {},
   "outputs": [],
   "source": [
    "#bytes\n",
    "\n",
    "x = b\"Selamat Datang\"\n",
    "\n",
    "#print isi value dari x\n",
    "print(x)\n",
    "\n",
    "#print tipe data dari value x\n",
    "print(type(x))"
   ]
  },
  {
   "cell_type": "code",
   "execution_count": null,
   "metadata": {},
   "outputs": [],
   "source": [
    "#bytearray\n",
    "\n",
    "x = bytearray(10)\n",
    "\n",
    "#print isi value dari x\n",
    "print(x)\n",
    "\n",
    "#print tipe data dari value x\n",
    "print(type(x))"
   ]
  },
  {
   "cell_type": "code",
   "execution_count": null,
   "metadata": {},
   "outputs": [],
   "source": [
    "#memoryview\n",
    "\n",
    "x = memoryview(bytes(5))\n",
    "\n",
    "#print isi value dari x\n",
    "print(x)\n",
    "\n",
    "#print tipe data dari value x\n",
    "print(type(x))"
   ]
  },
  {
   "cell_type": "code",
   "execution_count": null,
   "metadata": {},
   "outputs": [],
   "source": [
    "#complex\n",
    "\n",
    "x = 2j\n",
    "\n",
    "#print isi value dari x\n",
    "print(x)\n",
    "\n",
    "#print tipe data dari value x\n",
    "print(type(x))"
   ]
  }
 ],
 "metadata": {
  "kernelspec": {
   "display_name": "Python 3",
   "language": "python",
   "name": "python3"
  },
  "language_info": {
   "codemirror_mode": {
    "name": "ipython",
    "version": 3
   },
   "file_extension": ".py",
   "mimetype": "text/x-python",
   "name": "python",
   "nbconvert_exporter": "python",
   "pygments_lexer": "ipython3",
   "version": "3.8.3"
  }
 },
 "nbformat": 4,
 "nbformat_minor": 4
}

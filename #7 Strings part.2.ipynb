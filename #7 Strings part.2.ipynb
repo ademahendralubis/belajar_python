{
 "cells": [
  {
   "cell_type": "code",
   "execution_count": null,
   "metadata": {},
   "outputs": [],
   "source": [
    "#upper\n",
    "x= \"selamat datang\"\n",
    "print(x.upper())"
   ]
  },
  {
   "cell_type": "code",
   "execution_count": null,
   "metadata": {},
   "outputs": [],
   "source": [
    "#lower\n",
    "x = \"SeLamat DATANG\"\n",
    "print(x.lower())"
   ]
  },
  {
   "cell_type": "code",
   "execution_count": null,
   "metadata": {},
   "outputs": [],
   "source": [
    "#split\n",
    "x = \"selamat, datang\"\n",
    "print(x.split(\",\"))"
   ]
  },
  {
   "cell_type": "code",
   "execution_count": null,
   "metadata": {},
   "outputs": [],
   "source": [
    "x = \"selamat datang\"\n",
    "print(x.split(\" \"))"
   ]
  },
  {
   "cell_type": "code",
   "execution_count": null,
   "metadata": {},
   "outputs": [],
   "source": [
    "x = \"selamat datang\"\n",
    "print(x.split(\"e\"))"
   ]
  },
  {
   "cell_type": "code",
   "execution_count": null,
   "metadata": {},
   "outputs": [],
   "source": [
    "#Format\n",
    "\n",
    "umur = 15\n",
    "x = \"umur saya : \" + umur #we can't combine string and integer\n",
    "print(x)"
   ]
  },
  {
   "cell_type": "code",
   "execution_count": null,
   "metadata": {},
   "outputs": [],
   "source": [
    "#Format\n",
    "umur = 15\n",
    "x = \"umur saya : {}\".format(umur)\n",
    "print(x)"
   ]
  },
  {
   "cell_type": "code",
   "execution_count": null,
   "metadata": {},
   "outputs": [],
   "source": [
    "#Format\n",
    "\n",
    "umur = 15\n",
    "umur_kakak = 18\n",
    "umur_adik = 12\n",
    "x = \"umur saya : {}, umur kakak saya {} dan umur adik saya {}\".format(umur, umur_kakak, umur_adik)\n",
    "print(x)"
   ]
  },
  {
   "cell_type": "code",
   "execution_count": null,
   "metadata": {},
   "outputs": [],
   "source": [
    "#Format with index\n",
    "umur = 15\n",
    "umur_kakak = 18\n",
    "umur_adik = 12\n",
    "x = \"umur saya : {1}, umur kakak saya {2} dan umur adik saya {0}\".format(umur_adik,umur,umur_kakak)\n",
    "print(x)"
   ]
  },
  {
   "cell_type": "code",
   "execution_count": null,
   "metadata": {},
   "outputs": [],
   "source": [
    "#Escape Character\n",
    "# Hasilnya akan mendapat error kalo kita memakai \"\" di dalam string\n",
    "\n",
    "x = \"username saya adalah \"codingan\" \" \n",
    "print(x)"
   ]
  },
  {
   "cell_type": "code",
   "execution_count": null,
   "metadata": {},
   "outputs": [],
   "source": [
    "#Escape Character\n",
    "\n",
    "x = \"username saya adalah \\\"codingan\\\" \" \n",
    "print(x)"
   ]
  },
  {
   "cell_type": "code",
   "execution_count": null,
   "metadata": {},
   "outputs": [],
   "source": [
    "#Capitalize\n",
    "\n",
    "x = \"selamat datang\"\n",
    "print(x.capitalize())"
   ]
  }
 ],
 "metadata": {
  "kernelspec": {
   "display_name": "Python 3",
   "language": "python",
   "name": "python3"
  },
  "language_info": {
   "codemirror_mode": {
    "name": "ipython",
    "version": 3
   },
   "file_extension": ".py",
   "mimetype": "text/x-python",
   "name": "python",
   "nbconvert_exporter": "python",
   "pygments_lexer": "ipython3",
   "version": "3.8.3"
  }
 },
 "nbformat": 4,
 "nbformat_minor": 4
}

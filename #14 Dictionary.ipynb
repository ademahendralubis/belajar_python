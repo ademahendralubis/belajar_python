{
 "cells": [
  {
   "cell_type": "markdown",
   "metadata": {},
   "source": [
    "##### Dictionary bersifat unordered, changeable and indexed"
   ]
  },
  {
   "cell_type": "code",
   "execution_count": 1,
   "metadata": {},
   "outputs": [
    {
     "name": "stdout",
     "output_type": "stream",
     "text": [
      "{'nama': 'Budi', 'kota': 'jakarta', 'umur': 25}\n"
     ]
    }
   ],
   "source": [
    "x = {\n",
    "  \"nama\": \"Budi\",\n",
    "  \"kota\": \"jakarta\",\n",
    "  \"umur\": 25,\n",
    "}\n",
    "\n",
    "print(x)"
   ]
  },
  {
   "cell_type": "code",
   "execution_count": 5,
   "metadata": {},
   "outputs": [
    {
     "name": "stdout",
     "output_type": "stream",
     "text": [
      "jakarta\n"
     ]
    }
   ],
   "source": [
    "#Access item\n",
    "x = {\n",
    "  \"nama\": \"Budi\",\n",
    "  \"kota\": \"jakarta\",\n",
    "  \"umur\": 25,\n",
    "}\n",
    "print(x[\"kota\"])"
   ]
  },
  {
   "cell_type": "code",
   "execution_count": 6,
   "metadata": {},
   "outputs": [
    {
     "name": "stdout",
     "output_type": "stream",
     "text": [
      "Budi\n"
     ]
    }
   ],
   "source": [
    "#Access item 2 (get)\n",
    "x = {\n",
    "  \"nama\": \"Budi\",\n",
    "  \"kota\": \"jakarta\",\n",
    "  \"umur\": 25,\n",
    "}\n",
    "print(x.get('nama') )"
   ]
  },
  {
   "cell_type": "code",
   "execution_count": 7,
   "metadata": {},
   "outputs": [
    {
     "name": "stdout",
     "output_type": "stream",
     "text": [
      "{'nama': 'anton', 'kota': 'jakarta', 'umur': 25}\n"
     ]
    }
   ],
   "source": [
    "#Change item\n",
    "x = {\n",
    "  \"nama\": \"Budi\",\n",
    "  \"kota\": \"jakarta\",\n",
    "  \"umur\": 25,\n",
    "}\n",
    "x[\"nama\"] = \"anton\"\n",
    "print(x)"
   ]
  },
  {
   "cell_type": "code",
   "execution_count": 8,
   "metadata": {},
   "outputs": [
    {
     "name": "stdout",
     "output_type": "stream",
     "text": [
      "nama\n",
      "kota\n",
      "umur\n"
     ]
    }
   ],
   "source": [
    "# loop the dict\n",
    "# print all the keys\n",
    "x = {\n",
    "  \"nama\": \"Budi\",\n",
    "  \"kota\": \"jakarta\",\n",
    "  \"umur\": 25,\n",
    "}\n",
    "for item in x:\n",
    "  print(item)"
   ]
  },
  {
   "cell_type": "code",
   "execution_count": 9,
   "metadata": {},
   "outputs": [
    {
     "name": "stdout",
     "output_type": "stream",
     "text": [
      "Budi\n",
      "jakarta\n",
      "25\n"
     ]
    }
   ],
   "source": [
    "# loop the dict\n",
    "# print all the values\n",
    "x = {\n",
    "  \"nama\": \"Budi\",\n",
    "  \"kota\": \"jakarta\",\n",
    "  \"umur\": 25,\n",
    "}\n",
    "for item in x:\n",
    "  print(x[item])"
   ]
  },
  {
   "cell_type": "code",
   "execution_count": 10,
   "metadata": {},
   "outputs": [
    {
     "name": "stdout",
     "output_type": "stream",
     "text": [
      "Budi\n",
      "jakarta\n",
      "25\n"
     ]
    }
   ],
   "source": [
    "# loop the dict\n",
    "# print all the values 2\n",
    "x = {\n",
    "  \"nama\": \"Budi\",\n",
    "  \"kota\": \"jakarta\",\n",
    "  \"umur\": 25,\n",
    "}\n",
    "for item in x.values():\n",
    "  print(item)"
   ]
  },
  {
   "cell_type": "code",
   "execution_count": 11,
   "metadata": {},
   "outputs": [
    {
     "name": "stdout",
     "output_type": "stream",
     "text": [
      "nama Budi\n",
      "kota jakarta\n",
      "umur 25\n"
     ]
    }
   ],
   "source": [
    "# loop the dict\n",
    "# print all the keys and values\n",
    "x = {\n",
    "  \"nama\": \"Budi\",\n",
    "  \"kota\": \"jakarta\",\n",
    "  \"umur\": 25,\n",
    "}\n",
    "for a, b in x.items():\n",
    "  print(a,b)"
   ]
  },
  {
   "cell_type": "code",
   "execution_count": 14,
   "metadata": {},
   "outputs": [
    {
     "name": "stdout",
     "output_type": "stream",
     "text": [
      "Yes\n"
     ]
    }
   ],
   "source": [
    "# check if the key is exist in the dictionary\n",
    "x = {\n",
    "  \"nama\": \"Budi\",\n",
    "  \"kota\": \"jakarta\",\n",
    "  \"umur\": 25,\n",
    "}\n",
    "\n",
    "if \"nama\" in x:\n",
    "    print(\"Yes\")\n",
    "else:\n",
    "    print('No')"
   ]
  },
  {
   "cell_type": "code",
   "execution_count": 18,
   "metadata": {},
   "outputs": [
    {
     "name": "stdout",
     "output_type": "stream",
     "text": [
      "3\n"
     ]
    }
   ],
   "source": [
    "# length\n",
    "x = {\n",
    "  \"nama\": \"Budi\",\n",
    "  \"kota\": \"jakarta\",\n",
    "  \"umur\": 25\n",
    "}\n",
    "\n",
    "print(len(x))"
   ]
  },
  {
   "cell_type": "code",
   "execution_count": 19,
   "metadata": {},
   "outputs": [
    {
     "name": "stdout",
     "output_type": "stream",
     "text": [
      "{'nama': 'Budi', 'kota': 'jakarta', 'umur': 25, 'tinggi': 165}\n"
     ]
    }
   ],
   "source": [
    "#add item\n",
    "x = {\n",
    "  \"nama\": \"Budi\",\n",
    "  \"kota\": \"jakarta\",\n",
    "  \"umur\": 25,\n",
    "}\n",
    "x['tinggi'] = 165\n",
    "\n",
    "print(x)"
   ]
  },
  {
   "cell_type": "code",
   "execution_count": 20,
   "metadata": {},
   "outputs": [
    {
     "name": "stdout",
     "output_type": "stream",
     "text": [
      "{'kota': 'jakarta', 'umur': 25}\n"
     ]
    }
   ],
   "source": [
    "#pop\n",
    "x = {\n",
    "  \"nama\": \"Budi\",\n",
    "  \"kota\": \"jakarta\",\n",
    "  \"umur\": 25,\n",
    "}\n",
    "\n",
    "x.pop('nama')\n",
    "\n",
    "print(x)"
   ]
  },
  {
   "cell_type": "code",
   "execution_count": 21,
   "metadata": {},
   "outputs": [
    {
     "name": "stdout",
     "output_type": "stream",
     "text": [
      "{'nama': 'Budi', 'kota': 'jakarta'}\n"
     ]
    }
   ],
   "source": [
    "#popitem\n",
    "x = {\n",
    "  \"nama\": \"Budi\",\n",
    "  \"kota\": \"jakarta\",\n",
    "  \"umur\": 25,\n",
    "}\n",
    "\n",
    "x.popitem()\n",
    "\n",
    "print(x)"
   ]
  },
  {
   "cell_type": "code",
   "execution_count": 22,
   "metadata": {},
   "outputs": [
    {
     "ename": "NameError",
     "evalue": "name 'x' is not defined",
     "output_type": "error",
     "traceback": [
      "\u001b[1;31m---------------------------------------------------------------------------\u001b[0m",
      "\u001b[1;31mNameError\u001b[0m                                 Traceback (most recent call last)",
      "\u001b[1;32m<ipython-input-22-73af14815e4e>\u001b[0m in \u001b[0;36m<module>\u001b[1;34m\u001b[0m\n\u001b[0;32m      8\u001b[0m \u001b[1;32mdel\u001b[0m \u001b[0mx\u001b[0m\u001b[1;33m\u001b[0m\u001b[1;33m\u001b[0m\u001b[0m\n\u001b[0;32m      9\u001b[0m \u001b[1;33m\u001b[0m\u001b[0m\n\u001b[1;32m---> 10\u001b[1;33m \u001b[0mprint\u001b[0m\u001b[1;33m(\u001b[0m\u001b[0mx\u001b[0m\u001b[1;33m)\u001b[0m\u001b[1;33m\u001b[0m\u001b[1;33m\u001b[0m\u001b[0m\n\u001b[0m",
      "\u001b[1;31mNameError\u001b[0m: name 'x' is not defined"
     ]
    }
   ],
   "source": [
    "#delete\n",
    "x = {\n",
    "  \"nama\": \"Budi\",\n",
    "  \"kota\": \"jakarta\",\n",
    "  \"umur\": 25,\n",
    "}\n",
    "\n",
    "del x\n",
    "\n",
    "print(x)"
   ]
  },
  {
   "cell_type": "code",
   "execution_count": 23,
   "metadata": {},
   "outputs": [
    {
     "name": "stdout",
     "output_type": "stream",
     "text": [
      "{}\n"
     ]
    }
   ],
   "source": [
    "#clear\n",
    "x = {\n",
    "  \"nama\": \"Budi\",\n",
    "  \"kota\": \"jakarta\",\n",
    "  \"umur\": 25,\n",
    "}\n",
    "\n",
    "x.clear()\n",
    "\n",
    "print(x)"
   ]
  },
  {
   "cell_type": "code",
   "execution_count": 24,
   "metadata": {},
   "outputs": [
    {
     "name": "stdout",
     "output_type": "stream",
     "text": [
      "{'nama': 'Budi', 'kota': 'jakarta', 'umur': 25}\n"
     ]
    }
   ],
   "source": [
    "#copy \n",
    "x = {\n",
    "  \"nama\": \"Budi\",\n",
    "  \"kota\": \"jakarta\",\n",
    "  \"umur\": 25,\n",
    "}\n",
    "y = x.copy()\n",
    "print(y)"
   ]
  },
  {
   "cell_type": "code",
   "execution_count": 25,
   "metadata": {},
   "outputs": [
    {
     "name": "stdout",
     "output_type": "stream",
     "text": [
      "{'nama': 'Budi', 'kota': 'jakarta', 'umur': 25}\n"
     ]
    }
   ],
   "source": [
    "#copy 2\n",
    "x = {\n",
    "  \"nama\": \"Budi\",\n",
    "  \"kota\": \"jakarta\",\n",
    "  \"umur\": 25,\n",
    "}\n",
    "y = dict(x)\n",
    "print(y)"
   ]
  },
  {
   "cell_type": "code",
   "execution_count": 26,
   "metadata": {},
   "outputs": [
    {
     "name": "stdout",
     "output_type": "stream",
     "text": [
      "{'siswa_1': {'nama': 'Budi', 'kota': 'Jakarta', 'umur': 25}, 'siswa_2': {'nama': 'Anton', 'kota': 'Bandung', 'umur': 20}}\n"
     ]
    }
   ],
   "source": [
    "# Nested Dictionary\n",
    "x = {\n",
    "    \"siswa_1\":{\n",
    "      \"nama\": \"Budi\",\n",
    "      \"kota\": \"Jakarta\",\n",
    "      \"umur\": 25,\n",
    "    },\n",
    "    \"siswa_2\":{\n",
    "      \"nama\": \"Anton\",\n",
    "      \"kota\": \"Bandung\",\n",
    "      \"umur\": 20,\n",
    "    },\n",
    "}\n",
    "\n",
    "print(x)"
   ]
  },
  {
   "cell_type": "code",
   "execution_count": 30,
   "metadata": {},
   "outputs": [
    {
     "name": "stdout",
     "output_type": "stream",
     "text": [
      "Budi\n"
     ]
    }
   ],
   "source": [
    "# Accessing the Nested Dictionary\n",
    "x = {\n",
    "    \"siswa_1\":{\n",
    "      \"nama\": \"Budi\",\n",
    "      \"kota\": \"Jakarta\",\n",
    "      \"umur\": 25,\n",
    "    },\n",
    "    \"siswa_2\":{\n",
    "      \"nama\": \"Anton\",\n",
    "      \"kota\": \"Bandung\",\n",
    "      \"umur\": 20,\n",
    "    },\n",
    "}\n",
    "\n",
    "print(x[\"siswa_1\"][\"nama\"])"
   ]
  }
 ],
 "metadata": {
  "kernelspec": {
   "display_name": "Python 3",
   "language": "python",
   "name": "python3"
  },
  "language_info": {
   "codemirror_mode": {
    "name": "ipython",
    "version": 3
   },
   "file_extension": ".py",
   "mimetype": "text/x-python",
   "name": "python",
   "nbconvert_exporter": "python",
   "pygments_lexer": "ipython3",
   "version": "3.8.3"
  }
 },
 "nbformat": 4,
 "nbformat_minor": 4
}

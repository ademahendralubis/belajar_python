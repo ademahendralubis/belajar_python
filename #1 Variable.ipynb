{
 "cells": [
  {
   "cell_type": "code",
   "execution_count": null,
   "metadata": {},
   "outputs": [],
   "source": [
    "#contoh variabel\n",
    "\n",
    "ember1 = \"motor\"\n",
    "ember2 = 5\n",
    "print(ember1)\n",
    "print(ember2)"
   ]
  },
  {
   "cell_type": "code",
   "execution_count": null,
   "metadata": {},
   "outputs": [],
   "source": [
    "#tidak perlu di-declare sebelumnya dan tidak perlu dikasih tipe data\n",
    "\n",
    "ember1 = \"mobil\" # ember1 bertipe data string\n",
    "ember1 = 10 #ember1 sekarang bertipa data integer\n",
    "print(ember1)"
   ]
  },
  {
   "cell_type": "code",
   "execution_count": null,
   "metadata": {},
   "outputs": [],
   "source": [
    "#nama variabel hanya boleh mengandung alpha-numeric dan underscore (A-Z, a-z, 0-9, _)\n",
    "#tidak boleh diawali oleh angka\n",
    "#hanya boleh diawali oleh huruf dan underscore\n",
    "#jumlah karakter pada nama variable, bebas\n",
    "\n",
    "#nama variable yang diperbolehkan\n",
    "x = \"codingan\"\n",
    "nama_depan = \"codingan\"\n",
    "_nama = \"codingan\"\n",
    "NAMA = \"codingan\"\n",
    "nama1 = \"codingan\"\n"
   ]
  },
  {
   "cell_type": "code",
   "execution_count": null,
   "metadata": {},
   "outputs": [],
   "source": [
    "#nama variable yang tidak diperbolehkan\n",
    "1nama = \"codingan\"\n",
    "nama depan = \"codingan\"\n",
    "nama-depan = \"codingan\"\n",
    "3 = \"codingan\"\n",
    "!nama = \"codingan\""
   ]
  },
  {
   "cell_type": "code",
   "execution_count": null,
   "metadata": {},
   "outputs": [],
   "source": [
    "#perhatikan case sensitive pada setiap nama variable\n",
    "\n",
    "nama = \"codingan\"\n",
    "naMa = \"codingan\"\n",
    "NAMA = \"codingan\"\n",
    "\n",
    "#nama, naMa, dan NAMA adalah 3 variable yang berbeda"
   ]
  },
  {
   "cell_type": "code",
   "execution_count": null,
   "metadata": {},
   "outputs": [],
   "source": []
  },
  {
   "cell_type": "code",
   "execution_count": null,
   "metadata": {},
   "outputs": [],
   "source": []
  },
  {
   "cell_type": "code",
   "execution_count": null,
   "metadata": {},
   "outputs": [],
   "source": []
  },
  {
   "cell_type": "code",
   "execution_count": null,
   "metadata": {},
   "outputs": [],
   "source": []
  },
  {
   "cell_type": "code",
   "execution_count": null,
   "metadata": {},
   "outputs": [],
   "source": []
  },
  {
   "cell_type": "code",
   "execution_count": null,
   "metadata": {},
   "outputs": [],
   "source": []
  },
  {
   "cell_type": "code",
   "execution_count": null,
   "metadata": {},
   "outputs": [],
   "source": []
  },
  {
   "cell_type": "code",
   "execution_count": null,
   "metadata": {},
   "outputs": [],
   "source": []
  },
  {
   "cell_type": "code",
   "execution_count": null,
   "metadata": {},
   "outputs": [],
   "source": []
  },
  {
   "cell_type": "code",
   "execution_count": null,
   "metadata": {},
   "outputs": [],
   "source": []
  },
  {
   "cell_type": "code",
   "execution_count": null,
   "metadata": {},
   "outputs": [],
   "source": []
  },
  {
   "cell_type": "code",
   "execution_count": null,
   "metadata": {},
   "outputs": [],
   "source": []
  },
  {
   "cell_type": "code",
   "execution_count": null,
   "metadata": {},
   "outputs": [],
   "source": []
  },
  {
   "cell_type": "code",
   "execution_count": null,
   "metadata": {},
   "outputs": [],
   "source": []
  }
 ],
 "metadata": {
  "kernelspec": {
   "display_name": "Python 3",
   "language": "python",
   "name": "python3"
  },
  "language_info": {
   "codemirror_mode": {
    "name": "ipython",
    "version": 3
   },
   "file_extension": ".py",
   "mimetype": "text/x-python",
   "name": "python",
   "nbconvert_exporter": "python",
   "pygments_lexer": "ipython3",
   "version": "3.8.3"
  }
 },
 "nbformat": 4,
 "nbformat_minor": 4
}

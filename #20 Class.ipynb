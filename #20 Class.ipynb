{
 "cells": [
  {
   "cell_type": "code",
   "execution_count": 1,
   "metadata": {},
   "outputs": [],
   "source": [
    "class Karyawan:\n",
    "    nama = \"Anton\"\n",
    "    umur = 31"
   ]
  },
  {
   "cell_type": "code",
   "execution_count": 2,
   "metadata": {},
   "outputs": [
    {
     "name": "stdout",
     "output_type": "stream",
     "text": [
      "31\n"
     ]
    }
   ],
   "source": [
    "# create object\n",
    "\n",
    "x = Karyawan()\n",
    "print(x.umur)"
   ]
  },
  {
   "cell_type": "code",
   "execution_count": 3,
   "metadata": {},
   "outputs": [
    {
     "name": "stdout",
     "output_type": "stream",
     "text": [
      "anton\n",
      "susan\n"
     ]
    }
   ],
   "source": [
    "# __init_function\n",
    "\n",
    "class Karyawan:\n",
    "    \n",
    "    def __init__(self,nama):\n",
    "        self.nama = nama\n",
    "    \n",
    "x = Karyawan(\"anton\")\n",
    "y = Karyawan(\"susan\")\n",
    "print(x.nama)\n",
    "print(y.nama)"
   ]
  },
  {
   "cell_type": "code",
   "execution_count": 4,
   "metadata": {},
   "outputs": [
    {
     "name": "stdout",
     "output_type": "stream",
     "text": [
      "nama saya adalah anton\n",
      "umur saya adalah 30\n"
     ]
    }
   ],
   "source": [
    "# self parameter\n",
    "\n",
    "class Karyawan:\n",
    "    \n",
    "    def __init__(self,nama,umur):\n",
    "        self.nama = nama\n",
    "        self.umur = umur\n",
    "    \n",
    "    def printnama(self):\n",
    "        print(\"nama saya adalah {}\".format(self.nama))\n",
    "        print(\"umur saya adalah {}\".format(self.umur))\n",
    "        \n",
    "x = Karyawan(\"anton\", 30)\n",
    "x.printnama()\n"
   ]
  },
  {
   "cell_type": "code",
   "execution_count": 5,
   "metadata": {},
   "outputs": [
    {
     "name": "stdout",
     "output_type": "stream",
     "text": [
      "anton\n",
      "Budi\n"
     ]
    }
   ],
   "source": [
    "# modify property\n",
    "class Karyawan:\n",
    "    \n",
    "    def __init__(self,nama,umur):\n",
    "        self.nama = nama\n",
    "        self.umur = umur\n",
    "    \n",
    "    def printnama(self):\n",
    "        print(\"nama saya adalah {}\".format(self.nama))\n",
    "        print(\"umur saya adalah {}\".format(self.umur))\n",
    "        \n",
    "x = Karyawan(\"anton\", 30)\n",
    "print(x.nama)\n",
    "\n",
    "x.nama = \"Budi\"\n",
    "\n",
    "print(x.nama)"
   ]
  },
  {
   "cell_type": "code",
   "execution_count": 6,
   "metadata": {},
   "outputs": [
    {
     "ename": "AttributeError",
     "evalue": "'Karyawan' object has no attribute 'umur'",
     "output_type": "error",
     "traceback": [
      "\u001b[1;31m---------------------------------------------------------------------------\u001b[0m",
      "\u001b[1;31mAttributeError\u001b[0m                            Traceback (most recent call last)",
      "\u001b[1;32m<ipython-input-6-43babe40b6a6>\u001b[0m in \u001b[0;36m<module>\u001b[1;34m\u001b[0m\n\u001b[0;32m     11\u001b[0m \u001b[0mx\u001b[0m \u001b[1;33m=\u001b[0m \u001b[0mKaryawan\u001b[0m\u001b[1;33m(\u001b[0m\u001b[1;34m\"anton\"\u001b[0m\u001b[1;33m,\u001b[0m \u001b[1;36m30\u001b[0m\u001b[1;33m)\u001b[0m\u001b[1;33m\u001b[0m\u001b[1;33m\u001b[0m\u001b[0m\n\u001b[0;32m     12\u001b[0m \u001b[1;32mdel\u001b[0m \u001b[0mx\u001b[0m\u001b[1;33m.\u001b[0m\u001b[0mumur\u001b[0m\u001b[1;33m\u001b[0m\u001b[1;33m\u001b[0m\u001b[0m\n\u001b[1;32m---> 13\u001b[1;33m \u001b[0mprint\u001b[0m\u001b[1;33m(\u001b[0m\u001b[0mx\u001b[0m\u001b[1;33m.\u001b[0m\u001b[0mumur\u001b[0m\u001b[1;33m)\u001b[0m\u001b[1;33m\u001b[0m\u001b[1;33m\u001b[0m\u001b[0m\n\u001b[0m",
      "\u001b[1;31mAttributeError\u001b[0m: 'Karyawan' object has no attribute 'umur'"
     ]
    }
   ],
   "source": [
    "# delete property\n",
    "class Karyawan:\n",
    "    \n",
    "    def __init__(self,nama,umur):\n",
    "        self.nama = nama\n",
    "        self.umur = umur\n",
    "    \n",
    "    def printnama(self):\n",
    "        print(\"nama saya adalah {}\".format(self.nama))\n",
    "        print(\"umur saya adalah {}\".format(self.umur))\n",
    "x = Karyawan(\"anton\", 30)\n",
    "del x.umur\n",
    "print(x.umur)"
   ]
  },
  {
   "cell_type": "code",
   "execution_count": 7,
   "metadata": {},
   "outputs": [
    {
     "ename": "NameError",
     "evalue": "name 'x' is not defined",
     "output_type": "error",
     "traceback": [
      "\u001b[1;31m---------------------------------------------------------------------------\u001b[0m",
      "\u001b[1;31mNameError\u001b[0m                                 Traceback (most recent call last)",
      "\u001b[1;32m<ipython-input-7-1d1a4a2adc4e>\u001b[0m in \u001b[0;36m<module>\u001b[1;34m\u001b[0m\n\u001b[0;32m     11\u001b[0m \u001b[0mx\u001b[0m \u001b[1;33m=\u001b[0m \u001b[0mKaryawan\u001b[0m\u001b[1;33m(\u001b[0m\u001b[1;34m\"anton\"\u001b[0m\u001b[1;33m,\u001b[0m \u001b[1;36m30\u001b[0m\u001b[1;33m)\u001b[0m\u001b[1;33m\u001b[0m\u001b[1;33m\u001b[0m\u001b[0m\n\u001b[0;32m     12\u001b[0m \u001b[1;32mdel\u001b[0m \u001b[0mx\u001b[0m\u001b[1;33m\u001b[0m\u001b[1;33m\u001b[0m\u001b[0m\n\u001b[1;32m---> 13\u001b[1;33m \u001b[0mprint\u001b[0m\u001b[1;33m(\u001b[0m\u001b[0mx\u001b[0m\u001b[1;33m.\u001b[0m\u001b[0mnama\u001b[0m\u001b[1;33m)\u001b[0m\u001b[1;33m\u001b[0m\u001b[1;33m\u001b[0m\u001b[0m\n\u001b[0m",
      "\u001b[1;31mNameError\u001b[0m: name 'x' is not defined"
     ]
    }
   ],
   "source": [
    "# delete class object\n",
    "class Karyawan:\n",
    "    \n",
    "    def __init__(self,nama,umur):\n",
    "        self.nama = nama\n",
    "        self.umur = umur\n",
    "    \n",
    "    def printnama(self):\n",
    "        print(\"nama saya adalah {}\".format(self.nama))\n",
    "        print(\"umur saya adalah {}\".format(self.umur))\n",
    "x = Karyawan(\"anton\", 30)\n",
    "del x\n",
    "print(x.nama)"
   ]
  },
  {
   "cell_type": "code",
   "execution_count": 8,
   "metadata": {},
   "outputs": [],
   "source": [
    "#pass\n",
    "\n",
    "class Karyawan:\n",
    "    pass"
   ]
  }
 ],
 "metadata": {
  "kernelspec": {
   "display_name": "Python 3",
   "language": "python",
   "name": "python3"
  },
  "language_info": {
   "codemirror_mode": {
    "name": "ipython",
    "version": 3
   },
   "file_extension": ".py",
   "mimetype": "text/x-python",
   "name": "python",
   "nbconvert_exporter": "python",
   "pygments_lexer": "ipython3",
   "version": "3.8.3"
  }
 },
 "nbformat": 4,
 "nbformat_minor": 4
}

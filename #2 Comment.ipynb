{
 "cells": [
  {
   "cell_type": "code",
   "execution_count": 1,
   "metadata": {},
   "outputs": [
    {
     "name": "stdout",
     "output_type": "stream",
     "text": [
      "selamat datang\n"
     ]
    }
   ],
   "source": [
    "#comment diawali dengan #\n",
    "\n",
    "#ini adalah comment\n",
    "print(\"selamat datang\")"
   ]
  },
  {
   "cell_type": "code",
   "execution_count": 2,
   "metadata": {},
   "outputs": [
    {
     "name": "stdout",
     "output_type": "stream",
     "text": [
      "selamat datang\n"
     ]
    }
   ],
   "source": [
    "print(\"selamat datang\") #ini adalah komen"
   ]
  },
  {
   "cell_type": "code",
   "execution_count": 3,
   "metadata": {},
   "outputs": [
    {
     "name": "stdout",
     "output_type": "stream",
     "text": [
      "selamat datang\n"
     ]
    }
   ],
   "source": [
    "print(\"selamat datang\") \n",
    "#ini adalah komen"
   ]
  },
  {
   "cell_type": "code",
   "execution_count": null,
   "metadata": {},
   "outputs": [],
   "source": [
    "#print(\"selamat datang\") \n",
    "print(\"sampai jumpa\")"
   ]
  },
  {
   "cell_type": "code",
   "execution_count": 5,
   "metadata": {},
   "outputs": [],
   "source": [
    "#comment multiline dengan cara #\n",
    "\n",
    "# print(\"selamat datang\") \n",
    "# print(\"selamat datang\") \n",
    "# print(\"selamat datang\") "
   ]
  },
  {
   "cell_type": "code",
   "execution_count": null,
   "metadata": {},
   "outputs": [],
   "source": [
    "#comment multiline dengan cara \"\"\"comment\"\"\"\n",
    "\n",
    "\"\"\"\n",
    "print(\"selamat datang\") \n",
    "print(\"selamat datang\") \n",
    "print(\"selamat datang\")\n",
    "\"\"\""
   ]
  }
 ],
 "metadata": {
  "kernelspec": {
   "display_name": "Python 3",
   "language": "python",
   "name": "python3"
  },
  "language_info": {
   "codemirror_mode": {
    "name": "ipython",
    "version": 3
   },
   "file_extension": ".py",
   "mimetype": "text/x-python",
   "name": "python",
   "nbconvert_exporter": "python",
   "pygments_lexer": "ipython3",
   "version": "3.8.3"
  }
 },
 "nbformat": 4,
 "nbformat_minor": 4
}
